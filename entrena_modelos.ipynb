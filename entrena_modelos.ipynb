{
 "cells": [
  {
   "cell_type": "code",
   "execution_count": 9,
   "outputs": [],
   "source": [
    "import pathlib\n",
    "\n",
    "import numpy as np\n",
    "import pandas as pd\n",
    "\n",
    "import datetime as dt\n",
    "\n",
    "import itertools\n",
    "\n",
    "import holidays_co\n",
    "\n",
    "import matplotlib.pyplot as plt\n",
    "import seaborn as sns\n",
    "\n",
    "from sklearn.model_selection import train_test_split, TimeSeriesSplit\n",
    "\n",
    "from sklearn import preprocessing\n",
    "\n",
    "# from sklearnex import patch_sklearn\n",
    "# patch_sklearn()\n",
    "\n",
    "from sklearn.pipeline import Pipeline\n",
    "\n",
    "from sklearn.decomposition import PCA\n",
    "from sklearn.model_selection import GridSearchCV\n",
    "\n",
    "from sklearn.linear_model import Ridge, Lasso, ElasticNet\n",
    "from sklearn.svm import SVR\n",
    "from sklearn.neighbors import KNeighborsRegressor\n",
    "from sklearn.ensemble import GradientBoostingRegressor, RandomForestRegressor\n",
    "\n",
    "from joblib import dump, load"
   ],
   "metadata": {
    "collapsed": false,
    "pycharm": {
     "name": "#%%\n"
    }
   }
  },
  {
   "cell_type": "markdown",
   "source": [
    "# Datos"
   ],
   "metadata": {
    "collapsed": false,
    "pycharm": {
     "name": "#%% md\n"
    }
   }
  },
  {
   "cell_type": "code",
   "execution_count": 10,
   "outputs": [],
   "source": [
    "data = pd.read_csv('./data/processed/dataset.csv', index_col=0)\n",
    "data.index = pd.to_datetime(data.index)\n",
    "\n",
    "data = data.drop(columns=['value_no_cl',])\n",
    "\n",
    "pd.set_option('display.float_format', lambda x: '%.5f' % x)"
   ],
   "metadata": {
    "collapsed": false,
    "pycharm": {
     "name": "#%%\n"
    }
   }
  },
  {
   "cell_type": "code",
   "execution_count": 11,
   "outputs": [
    {
     "data": {
      "text/plain": "(2557, 17)"
     },
     "execution_count": 11,
     "metadata": {},
     "output_type": "execute_result"
    }
   ],
   "source": [
    "data.shape"
   ],
   "metadata": {
    "collapsed": false,
    "pycharm": {
     "name": "#%%\n"
    }
   }
  },
  {
   "cell_type": "markdown",
   "source": [
    "## Explora correlación"
   ],
   "metadata": {
    "collapsed": false,
    "pycharm": {
     "name": "#%% md\n"
    }
   }
  },
  {
   "cell_type": "code",
   "execution_count": 12,
   "outputs": [],
   "source": [
    "# data_corr = data.loc['2012-01-01':'2017-12-31'].corr(method='spearman')\n",
    "#\n",
    "# fig = plt.figure(figsize=(12, 12))\n",
    "# ax = sns.heatmap(data_corr, annot=True, linewidths=.5, vmin=-1, vmax=1, cmap='bwr', fmt='.2f')\n",
    "# plt.show()\n",
    "# plt.close('all')"
   ],
   "metadata": {
    "collapsed": false,
    "pycharm": {
     "name": "#%%\n"
    }
   }
  },
  {
   "cell_type": "code",
   "execution_count": 13,
   "outputs": [],
   "source": [
    "# data_corr = data_anom.corr(method='spearman')\n",
    "#\n",
    "# fig = plt.figure(figsize=(12, 12))\n",
    "# ax = sns.heatmap(data_corr, annot=True, linewidths=.5, vmin=-1, vmax=1, cmap='bwr', fmt='.2f')\n",
    "# plt.show()\n",
    "# plt.close('all')"
   ],
   "metadata": {
    "collapsed": false,
    "pycharm": {
     "name": "#%%\n"
    }
   }
  },
  {
   "cell_type": "markdown",
   "source": [
    "## Datos para entrenamiento, prueba y validación"
   ],
   "metadata": {
    "collapsed": false,
    "pycharm": {
     "name": "#%% md\n"
    }
   }
  },
  {
   "cell_type": "code",
   "execution_count": 14,
   "outputs": [
    {
     "name": "stdout",
     "output_type": "stream",
     "text": [
      "None\n",
      "[2094.1]\n"
     ]
    },
    {
     "data": {
      "text/plain": "((1827, 16), (365, 16), (1827, 1), (365, 1), (181, 16))"
     },
     "execution_count": 14,
     "metadata": {},
     "output_type": "execute_result"
    }
   ],
   "source": [
    "X = data.drop(columns='value')\n",
    "y = data.loc[:, ['value']]\n",
    "\n",
    "\n",
    "X_train = X.loc['2012-01-01':'2016-12-31']\n",
    "y_train = y.loc['2012-01-01':'2016-12-31']\n",
    "\n",
    "X_val = X.loc['2017-01-01':'2017-12-31']\n",
    "y_val = y.loc['2017-01-01':'2017-12-31']\n",
    "\n",
    "X_test = X.loc['2018-01-01':'2018-06-30']\n",
    "\n",
    "\n",
    "scaler_y = preprocessing.RobustScaler(with_centering=False, quantile_range=(0, 99)).fit(y_train)\n",
    "print(scaler_y.center_)\n",
    "print(scaler_y.scale_)\n",
    "\n",
    "y_train_scaled = pd.DataFrame(\n",
    "    data=scaler_y.transform(y_train),\n",
    "    index=y_train.index, columns=y_train.columns\n",
    ")\n",
    "\n",
    "y_val_scaled = pd.DataFrame(\n",
    "    data=scaler_y.transform(y_val),\n",
    "    index=y_val.index, columns=y_val.columns\n",
    ")\n",
    "\n",
    "X_train.shape, X_val.shape, y_train.shape, y_val.shape, X_test.shape"
   ],
   "metadata": {
    "collapsed": false,
    "pycharm": {
     "name": "#%%\n"
    }
   }
  },
  {
   "cell_type": "markdown",
   "source": [
    "# Entrenamiento"
   ],
   "metadata": {
    "collapsed": false,
    "pycharm": {
     "name": "#%% md\n"
    }
   }
  },
  {
   "cell_type": "code",
   "execution_count": 15,
   "outputs": [],
   "source": [
    "models_dict = {\n",
    "    'Ridge': {\n",
    "        'estimator': Ridge(),\n",
    "        'n_cv': 10,\n",
    "        'parameters_model' :{\n",
    "            'estimator__alpha': np.logspace(-4, 6, 100)\n",
    "        }\n",
    "    },\n",
    "    'Lasso': {\n",
    "        'estimator': Lasso(),\n",
    "        'n_cv': 10,\n",
    "        'parameters_model' :{\n",
    "            'estimator__alpha': np.logspace(-6, 8, 100)\n",
    "        }\n",
    "    },\n",
    "    'ElasticNet': {\n",
    "        'estimator': ElasticNet(),\n",
    "        'n_cv': 10,\n",
    "        'parameters_model' :{\n",
    "            'estimator__alpha': np.logspace(-4, 2, 100),\n",
    "            'estimator__l1_ratio': [0.05, 0.1, 0.5, 0.7, 0.9, 0.95, 0.99],\n",
    "        }\n",
    "    },\n",
    "    'KNeighborsRegressor': {\n",
    "        'estimator': KNeighborsRegressor(),\n",
    "        'n_cv': 10,\n",
    "        'parameters_model': {\n",
    "            'estimator__n_neighbors': range(3, 30),\n",
    "            'estimator__weights': ['uniform','distance'],\n",
    "            'estimator__p': [1, 2, 3],\n",
    "        }\n",
    "    },\n",
    "    'RandomForestRegressor': {\n",
    "        'estimator': RandomForestRegressor(\n",
    "            oob_score=False,\n",
    "            random_state=123,\n",
    "            warm_start=True\n",
    "        ),\n",
    "        'n_cv': 8,\n",
    "        'parameters_model': {\n",
    "            'estimator__max_features' : [1, 'sqrt', 'log2'],\n",
    "            'estimator__n_estimators': [400],\n",
    "            'estimator__max_depth': [3, 4, 5],\n",
    "            # 'estimator__ccp_alpha': np.logspace(-4, 4, 16)\n",
    "        }\n",
    "    },\n",
    "    'GradientBoostingRegressor': {\n",
    "        'estimator': GradientBoostingRegressor(\n",
    "            n_estimators=500,\n",
    "            random_state=123,\n",
    "            # Activación de la parada temprana\n",
    "            validation_fraction=0.1,\n",
    "            n_iter_no_change=5,\n",
    "            tol=0.0001\n",
    "        ),\n",
    "        'n_cv': 8,\n",
    "        'parameters_model': {\n",
    "            'estimator__max_features' : [1, 'sqrt', 'log2'],\n",
    "            'estimator__max_depth' : [1, 3, 5],\n",
    "            'estimator__subsample' : [0.5, 1],\n",
    "            'estimator__learning_rate' : [0.001, 0.01, 0.1],\n",
    "        }\n",
    "    },\n",
    "    'SVR': {\n",
    "        'estimator': SVR(cache_size=1000),\n",
    "        'n_cv': 8,\n",
    "        'parameters_model': {\n",
    "            'estimator__C': [10, 50, 75], #\n",
    "            'estimator__gamma': [0.1, 0.01, 0.001, 0.0001], #\n",
    "            'estimator__kernel': ['rbf'] #, 'rbf', 'poly', 'sigmoid'\n",
    "        }\n",
    "    },\n",
    "}\n",
    "# {'estimator__C': 100, 'estimator__gamma': 0.01, 'estimator__kernel': 'rbf', 'pca__n_components': 10}"
   ],
   "metadata": {
    "collapsed": false,
    "pycharm": {
     "name": "#%%\n"
    }
   }
  },
  {
   "cell_type": "code",
   "execution_count": 16,
   "outputs": [
    {
     "name": "stdout",
     "output_type": "stream",
     "text": [
      "Entrenando modelo Ridge ...\n",
      "Fitting 10 folds for each of 700 candidates, totalling 7000 fits\n",
      "{'estimator__alpha': 1.747528400007683, 'pca__n_components': 13}\n",
      "-0.030948357422297144 0.9975378474605173\n",
      "time    13.357463\n",
      "*************************************\n",
      "\n",
      "Entrenando modelo Lasso ...\n",
      "Fitting 10 folds for each of 700 candidates, totalling 7000 fits\n",
      "{'estimator__alpha': 0.001788649529057435, 'pca__n_components': 13}\n",
      "-0.030683876192272724 0.9975378474605173\n",
      "time    12.366629\n",
      "*************************************\n",
      "\n",
      "Entrenando modelo ElasticNet ...\n",
      "Fitting 10 folds for each of 4900 candidates, totalling 49000 fits\n",
      "{'estimator__alpha': 0.01, 'estimator__l1_ratio': 0.05, 'pca__n_components': 13}\n",
      "-0.030562835040945913 0.9975378474605173\n",
      "time    83.53115\n",
      "*************************************\n",
      "\n",
      "Entrenando modelo KNeighborsRegressor ...\n",
      "Fitting 10 folds for each of 1134 candidates, totalling 11340 fits\n",
      "{'estimator__n_neighbors': 7, 'estimator__p': 1, 'estimator__weights': 'distance', 'pca__n_components': 10}\n",
      "-0.02281844051323654 0.9659349498820976\n",
      "time    36.421011\n",
      "*************************************\n",
      "\n",
      "Entrenando modelo RandomForestRegressor ...\n",
      "Fitting 10 folds for each of 63 candidates, totalling 630 fits\n",
      "{'estimator__max_depth': 5, 'estimator__max_features': 'sqrt', 'estimator__n_estimators': 400, 'pca__n_components': 9}\n",
      "-0.02254497115186773 0.9466369035081037\n",
      "time    70.274238\n",
      "*************************************\n",
      "\n",
      "Entrenando modelo GradientBoostingRegressor ...\n",
      "Fitting 10 folds for each of 378 candidates, totalling 3780 fits\n",
      "{'estimator__learning_rate': 0.1, 'estimator__max_depth': 5, 'estimator__max_features': 'sqrt', 'estimator__subsample': 1, 'pca__n_components': 9}\n",
      "-0.02162818393869249 0.9466369035081037\n",
      "time    96.056435\n",
      "*************************************\n",
      "\n",
      "Entrenando modelo SVR ...\n",
      "Fitting 10 folds for each of 84 candidates, totalling 840 fits\n",
      "{'estimator__C': 75, 'estimator__gamma': 0.01, 'estimator__kernel': 'rbf', 'pca__n_components': 12}\n",
      "-0.024477784463399824 0.9939188005057301\n",
      "time    9.790106\n",
      "*************************************\n",
      "\n"
     ]
    }
   ],
   "source": [
    "tscv = TimeSeriesSplit(n_splits=10)\n",
    "\n",
    "parameters_preprocess = {\n",
    "    'pca__n_components': np.arange(7, 14, 1) # 13, len(X_train.columns)+1\n",
    "}\n",
    "\n",
    "refit_model = True\n",
    "\n",
    "for model_str in models_dict.keys():\n",
    "\n",
    "    time = dt.datetime.now()\n",
    "\n",
    "    ruta_modelo = pathlib.Path(f'./models/{model_str}.joblib')\n",
    "\n",
    "    # if ruta_modelo.is_file():\n",
    "    if refit_model:\n",
    "\n",
    "        print(f'Entrenando modelo {model_str} ...')\n",
    "\n",
    "        pca = PCA(svd_solver='full')\n",
    "        # scaler = preprocessing.StandardScaler()\n",
    "        scaler = preprocessing.RobustScaler(with_centering=False, quantile_range=(0, 99))\n",
    "\n",
    "        parameters_model = models_dict[model_str]['parameters_model']\n",
    "        parameters = parameters_preprocess | parameters_model\n",
    "        model = models_dict[model_str]['estimator']\n",
    "\n",
    "        model_estimator =  Pipeline(steps=[(\"scaler\", scaler), (\"pca\", pca), (\"estimator\", model)])\n",
    "\n",
    "        clf = GridSearchCV(\n",
    "            estimator=model_estimator,\n",
    "            param_grid=parameters,\n",
    "            scoring='neg_mean_squared_error',\n",
    "            n_jobs=7,\n",
    "            refit=True,\n",
    "            cv=tscv, #models_dict[model_str]['n_cv'],\n",
    "            verbose=1\n",
    "        )\n",
    "        clf.fit(X_train, y_train_scaled.to_numpy().ravel())\n",
    "\n",
    "        dump(clf, str(ruta_modelo))\n",
    "\n",
    "    print(clf.best_params_)\n",
    "    print(clf.best_score_, clf.best_estimator_['pca'].explained_variance_ratio_.sum())\n",
    "    print('time   ', (dt.datetime.now() - time).total_seconds())\n",
    "\n",
    "    print('*************************************\\n')\n"
   ],
   "metadata": {
    "collapsed": false,
    "pycharm": {
     "name": "#%%\n"
    }
   }
  },
  {
   "cell_type": "code",
   "execution_count": 31,
   "outputs": [
    {
     "data": {
      "text/plain": "0.9427608960425135"
     },
     "execution_count": 31,
     "metadata": {},
     "output_type": "execute_result"
    }
   ],
   "source": [
    "clf.best_estimator_['pca'].explained_variance_ratio_.sum()"
   ],
   "metadata": {
    "collapsed": false,
    "pycharm": {
     "name": "#%%\n"
    }
   }
  },
  {
   "cell_type": "code",
   "execution_count": null,
   "outputs": [],
   "source": [
    "{'estimator__C': 100, 'estimator__gamma': 0.01, 'estimator__kernel': 'rbf', 'pca__n_components': 10}\n"
   ],
   "metadata": {
    "collapsed": false,
    "pycharm": {
     "name": "#%%\n"
    }
   }
  }
 ],
 "metadata": {
  "kernelspec": {
   "display_name": "Python 3",
   "language": "python",
   "name": "python3"
  },
  "language_info": {
   "codemirror_mode": {
    "name": "ipython",
    "version": 2
   },
   "file_extension": ".py",
   "mimetype": "text/x-python",
   "name": "python",
   "nbconvert_exporter": "python",
   "pygments_lexer": "ipython2",
   "version": "2.7.6"
  }
 },
 "nbformat": 4,
 "nbformat_minor": 0
}